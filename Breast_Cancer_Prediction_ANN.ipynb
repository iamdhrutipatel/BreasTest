{
  "nbformat": 4,
  "nbformat_minor": 0,
  "metadata": {
    "colab": {
      "name": "Breast-Cancer-Prediction-ANN.ipynb",
      "provenance": []
    },
    "kernelspec": {
      "display_name": "Python 3",
      "name": "python3"
    },
    "language_info": {
      "name": "python"
    }
  },
  "cells": [
    {
      "cell_type": "code",
      "metadata": {
        "colab": {
          "base_uri": "https://localhost:8080/"
        },
        "id": "az0Xfb2pXl65",
        "outputId": "bef3830b-8106-443c-ce1f-1f0fef93c110"
      },
      "source": [
        "from google.colab import drive\n",
        "drive.mount('/content/drive')"
      ],
      "execution_count": null,
      "outputs": [
        {
          "output_type": "stream",
          "name": "stdout",
          "text": [
            "Mounted at /content/drive\n"
          ]
        }
      ]
    },
    {
      "cell_type": "code",
      "metadata": {
        "colab": {
          "base_uri": "https://localhost:8080/"
        },
        "id": "suoPY_6jXyAe",
        "outputId": "c2a83e30-057c-450b-ec11-102c2911527b"
      },
      "source": [
        "ls"
      ],
      "execution_count": null,
      "outputs": [
        {
          "output_type": "stream",
          "name": "stdout",
          "text": [
            "\u001b[0m\u001b[01;34mdrive\u001b[0m/  \u001b[01;34msample_data\u001b[0m/\n"
          ]
        }
      ]
    },
    {
      "cell_type": "code",
      "metadata": {
        "colab": {
          "base_uri": "https://localhost:8080/"
        },
        "id": "9a9np9JkXydL",
        "outputId": "861e321d-74e3-4e9c-83c0-a22779b7cf49"
      },
      "source": [
        "cd drive"
      ],
      "execution_count": null,
      "outputs": [
        {
          "output_type": "stream",
          "name": "stdout",
          "text": [
            "/content/drive\n"
          ]
        }
      ]
    },
    {
      "cell_type": "code",
      "metadata": {
        "colab": {
          "base_uri": "https://localhost:8080/"
        },
        "id": "DJHHV4OAXzmq",
        "outputId": "5ce6ff0d-814d-4f8b-b6bc-756ae9ab540e"
      },
      "source": [
        "cd My\\ Drive"
      ],
      "execution_count": null,
      "outputs": [
        {
          "output_type": "stream",
          "name": "stdout",
          "text": [
            "/content/drive/My Drive\n"
          ]
        }
      ]
    },
    {
      "cell_type": "code",
      "metadata": {
        "colab": {
          "base_uri": "https://localhost:8080/"
        },
        "id": "tPAt-oooX65l",
        "outputId": "8d55638c-0fe7-4814-fd35-4af55c24dbad"
      },
      "source": [
        "cd Datasets/"
      ],
      "execution_count": null,
      "outputs": [
        {
          "output_type": "stream",
          "name": "stdout",
          "text": [
            "/content/drive/My Drive/Datasets\n"
          ]
        }
      ]
    },
    {
      "cell_type": "code",
      "metadata": {
        "colab": {
          "base_uri": "https://localhost:8080/"
        },
        "id": "CbK0G4xsX8Yv",
        "outputId": "814b6882-545d-4546-99f7-99a8b3fae977"
      },
      "source": [
        "ls"
      ],
      "execution_count": null,
      "outputs": [
        {
          "output_type": "stream",
          "name": "stdout",
          "text": [
            "admission-predict-data.csv  breast-cancer-data.csv\n",
            "bank-note-auth-data.csv     credit-card-data.csv\n"
          ]
        }
      ]
    },
    {
      "cell_type": "code",
      "metadata": {
        "id": "JnjqCjC4YbFq"
      },
      "source": [
        "#importing the libraries\n",
        "import pandas as pd\n",
        "import numpy as np\n",
        "import matplotlib.pyplot as plt\n",
        "%matplotlib inline\n",
        "import seaborn as sns"
      ],
      "execution_count": null,
      "outputs": []
    },
    {
      "cell_type": "code",
      "metadata": {
        "colab": {
          "base_uri": "https://localhost:8080/",
          "height": 456
        },
        "id": "FpCu-HssYNOo",
        "outputId": "20b4ebe6-8c4f-42c4-b3c6-d0571700e9dc"
      },
      "source": [
        "#importing the dataset\n",
        "df = pd.read_csv(\"breast-cancer-data.csv\")\n",
        "df"
      ],
      "execution_count": null,
      "outputs": [
        {
          "output_type": "execute_result",
          "data": {
            "text/html": [
              "<div>\n",
              "<style scoped>\n",
              "    .dataframe tbody tr th:only-of-type {\n",
              "        vertical-align: middle;\n",
              "    }\n",
              "\n",
              "    .dataframe tbody tr th {\n",
              "        vertical-align: top;\n",
              "    }\n",
              "\n",
              "    .dataframe thead th {\n",
              "        text-align: right;\n",
              "    }\n",
              "</style>\n",
              "<table border=\"1\" class=\"dataframe\">\n",
              "  <thead>\n",
              "    <tr style=\"text-align: right;\">\n",
              "      <th></th>\n",
              "      <th>id</th>\n",
              "      <th>diagnosis</th>\n",
              "      <th>radius_mean</th>\n",
              "      <th>texture_mean</th>\n",
              "      <th>perimeter_mean</th>\n",
              "      <th>area_mean</th>\n",
              "      <th>smoothness_mean</th>\n",
              "      <th>compactness_mean</th>\n",
              "      <th>concavity_mean</th>\n",
              "      <th>concave points_mean</th>\n",
              "      <th>symmetry_mean</th>\n",
              "      <th>fractal_dimension_mean</th>\n",
              "      <th>radius_se</th>\n",
              "      <th>texture_se</th>\n",
              "      <th>perimeter_se</th>\n",
              "      <th>area_se</th>\n",
              "      <th>smoothness_se</th>\n",
              "      <th>compactness_se</th>\n",
              "      <th>concavity_se</th>\n",
              "      <th>concave points_se</th>\n",
              "      <th>symmetry_se</th>\n",
              "      <th>fractal_dimension_se</th>\n",
              "      <th>radius_worst</th>\n",
              "      <th>texture_worst</th>\n",
              "      <th>perimeter_worst</th>\n",
              "      <th>area_worst</th>\n",
              "      <th>smoothness_worst</th>\n",
              "      <th>compactness_worst</th>\n",
              "      <th>concavity_worst</th>\n",
              "      <th>concave points_worst</th>\n",
              "      <th>symmetry_worst</th>\n",
              "      <th>fractal_dimension_worst</th>\n",
              "      <th>Unnamed: 32</th>\n",
              "    </tr>\n",
              "  </thead>\n",
              "  <tbody>\n",
              "    <tr>\n",
              "      <th>0</th>\n",
              "      <td>842302</td>\n",
              "      <td>M</td>\n",
              "      <td>17.99</td>\n",
              "      <td>10.38</td>\n",
              "      <td>122.80</td>\n",
              "      <td>1001.0</td>\n",
              "      <td>0.11840</td>\n",
              "      <td>0.27760</td>\n",
              "      <td>0.30010</td>\n",
              "      <td>0.14710</td>\n",
              "      <td>0.2419</td>\n",
              "      <td>0.07871</td>\n",
              "      <td>1.0950</td>\n",
              "      <td>0.9053</td>\n",
              "      <td>8.589</td>\n",
              "      <td>153.40</td>\n",
              "      <td>0.006399</td>\n",
              "      <td>0.04904</td>\n",
              "      <td>0.05373</td>\n",
              "      <td>0.01587</td>\n",
              "      <td>0.03003</td>\n",
              "      <td>0.006193</td>\n",
              "      <td>25.380</td>\n",
              "      <td>17.33</td>\n",
              "      <td>184.60</td>\n",
              "      <td>2019.0</td>\n",
              "      <td>0.16220</td>\n",
              "      <td>0.66560</td>\n",
              "      <td>0.7119</td>\n",
              "      <td>0.2654</td>\n",
              "      <td>0.4601</td>\n",
              "      <td>0.11890</td>\n",
              "      <td>NaN</td>\n",
              "    </tr>\n",
              "    <tr>\n",
              "      <th>1</th>\n",
              "      <td>842517</td>\n",
              "      <td>M</td>\n",
              "      <td>20.57</td>\n",
              "      <td>17.77</td>\n",
              "      <td>132.90</td>\n",
              "      <td>1326.0</td>\n",
              "      <td>0.08474</td>\n",
              "      <td>0.07864</td>\n",
              "      <td>0.08690</td>\n",
              "      <td>0.07017</td>\n",
              "      <td>0.1812</td>\n",
              "      <td>0.05667</td>\n",
              "      <td>0.5435</td>\n",
              "      <td>0.7339</td>\n",
              "      <td>3.398</td>\n",
              "      <td>74.08</td>\n",
              "      <td>0.005225</td>\n",
              "      <td>0.01308</td>\n",
              "      <td>0.01860</td>\n",
              "      <td>0.01340</td>\n",
              "      <td>0.01389</td>\n",
              "      <td>0.003532</td>\n",
              "      <td>24.990</td>\n",
              "      <td>23.41</td>\n",
              "      <td>158.80</td>\n",
              "      <td>1956.0</td>\n",
              "      <td>0.12380</td>\n",
              "      <td>0.18660</td>\n",
              "      <td>0.2416</td>\n",
              "      <td>0.1860</td>\n",
              "      <td>0.2750</td>\n",
              "      <td>0.08902</td>\n",
              "      <td>NaN</td>\n",
              "    </tr>\n",
              "    <tr>\n",
              "      <th>2</th>\n",
              "      <td>84300903</td>\n",
              "      <td>M</td>\n",
              "      <td>19.69</td>\n",
              "      <td>21.25</td>\n",
              "      <td>130.00</td>\n",
              "      <td>1203.0</td>\n",
              "      <td>0.10960</td>\n",
              "      <td>0.15990</td>\n",
              "      <td>0.19740</td>\n",
              "      <td>0.12790</td>\n",
              "      <td>0.2069</td>\n",
              "      <td>0.05999</td>\n",
              "      <td>0.7456</td>\n",
              "      <td>0.7869</td>\n",
              "      <td>4.585</td>\n",
              "      <td>94.03</td>\n",
              "      <td>0.006150</td>\n",
              "      <td>0.04006</td>\n",
              "      <td>0.03832</td>\n",
              "      <td>0.02058</td>\n",
              "      <td>0.02250</td>\n",
              "      <td>0.004571</td>\n",
              "      <td>23.570</td>\n",
              "      <td>25.53</td>\n",
              "      <td>152.50</td>\n",
              "      <td>1709.0</td>\n",
              "      <td>0.14440</td>\n",
              "      <td>0.42450</td>\n",
              "      <td>0.4504</td>\n",
              "      <td>0.2430</td>\n",
              "      <td>0.3613</td>\n",
              "      <td>0.08758</td>\n",
              "      <td>NaN</td>\n",
              "    </tr>\n",
              "    <tr>\n",
              "      <th>3</th>\n",
              "      <td>84348301</td>\n",
              "      <td>M</td>\n",
              "      <td>11.42</td>\n",
              "      <td>20.38</td>\n",
              "      <td>77.58</td>\n",
              "      <td>386.1</td>\n",
              "      <td>0.14250</td>\n",
              "      <td>0.28390</td>\n",
              "      <td>0.24140</td>\n",
              "      <td>0.10520</td>\n",
              "      <td>0.2597</td>\n",
              "      <td>0.09744</td>\n",
              "      <td>0.4956</td>\n",
              "      <td>1.1560</td>\n",
              "      <td>3.445</td>\n",
              "      <td>27.23</td>\n",
              "      <td>0.009110</td>\n",
              "      <td>0.07458</td>\n",
              "      <td>0.05661</td>\n",
              "      <td>0.01867</td>\n",
              "      <td>0.05963</td>\n",
              "      <td>0.009208</td>\n",
              "      <td>14.910</td>\n",
              "      <td>26.50</td>\n",
              "      <td>98.87</td>\n",
              "      <td>567.7</td>\n",
              "      <td>0.20980</td>\n",
              "      <td>0.86630</td>\n",
              "      <td>0.6869</td>\n",
              "      <td>0.2575</td>\n",
              "      <td>0.6638</td>\n",
              "      <td>0.17300</td>\n",
              "      <td>NaN</td>\n",
              "    </tr>\n",
              "    <tr>\n",
              "      <th>4</th>\n",
              "      <td>84358402</td>\n",
              "      <td>M</td>\n",
              "      <td>20.29</td>\n",
              "      <td>14.34</td>\n",
              "      <td>135.10</td>\n",
              "      <td>1297.0</td>\n",
              "      <td>0.10030</td>\n",
              "      <td>0.13280</td>\n",
              "      <td>0.19800</td>\n",
              "      <td>0.10430</td>\n",
              "      <td>0.1809</td>\n",
              "      <td>0.05883</td>\n",
              "      <td>0.7572</td>\n",
              "      <td>0.7813</td>\n",
              "      <td>5.438</td>\n",
              "      <td>94.44</td>\n",
              "      <td>0.011490</td>\n",
              "      <td>0.02461</td>\n",
              "      <td>0.05688</td>\n",
              "      <td>0.01885</td>\n",
              "      <td>0.01756</td>\n",
              "      <td>0.005115</td>\n",
              "      <td>22.540</td>\n",
              "      <td>16.67</td>\n",
              "      <td>152.20</td>\n",
              "      <td>1575.0</td>\n",
              "      <td>0.13740</td>\n",
              "      <td>0.20500</td>\n",
              "      <td>0.4000</td>\n",
              "      <td>0.1625</td>\n",
              "      <td>0.2364</td>\n",
              "      <td>0.07678</td>\n",
              "      <td>NaN</td>\n",
              "    </tr>\n",
              "    <tr>\n",
              "      <th>...</th>\n",
              "      <td>...</td>\n",
              "      <td>...</td>\n",
              "      <td>...</td>\n",
              "      <td>...</td>\n",
              "      <td>...</td>\n",
              "      <td>...</td>\n",
              "      <td>...</td>\n",
              "      <td>...</td>\n",
              "      <td>...</td>\n",
              "      <td>...</td>\n",
              "      <td>...</td>\n",
              "      <td>...</td>\n",
              "      <td>...</td>\n",
              "      <td>...</td>\n",
              "      <td>...</td>\n",
              "      <td>...</td>\n",
              "      <td>...</td>\n",
              "      <td>...</td>\n",
              "      <td>...</td>\n",
              "      <td>...</td>\n",
              "      <td>...</td>\n",
              "      <td>...</td>\n",
              "      <td>...</td>\n",
              "      <td>...</td>\n",
              "      <td>...</td>\n",
              "      <td>...</td>\n",
              "      <td>...</td>\n",
              "      <td>...</td>\n",
              "      <td>...</td>\n",
              "      <td>...</td>\n",
              "      <td>...</td>\n",
              "      <td>...</td>\n",
              "      <td>...</td>\n",
              "    </tr>\n",
              "    <tr>\n",
              "      <th>564</th>\n",
              "      <td>926424</td>\n",
              "      <td>M</td>\n",
              "      <td>21.56</td>\n",
              "      <td>22.39</td>\n",
              "      <td>142.00</td>\n",
              "      <td>1479.0</td>\n",
              "      <td>0.11100</td>\n",
              "      <td>0.11590</td>\n",
              "      <td>0.24390</td>\n",
              "      <td>0.13890</td>\n",
              "      <td>0.1726</td>\n",
              "      <td>0.05623</td>\n",
              "      <td>1.1760</td>\n",
              "      <td>1.2560</td>\n",
              "      <td>7.673</td>\n",
              "      <td>158.70</td>\n",
              "      <td>0.010300</td>\n",
              "      <td>0.02891</td>\n",
              "      <td>0.05198</td>\n",
              "      <td>0.02454</td>\n",
              "      <td>0.01114</td>\n",
              "      <td>0.004239</td>\n",
              "      <td>25.450</td>\n",
              "      <td>26.40</td>\n",
              "      <td>166.10</td>\n",
              "      <td>2027.0</td>\n",
              "      <td>0.14100</td>\n",
              "      <td>0.21130</td>\n",
              "      <td>0.4107</td>\n",
              "      <td>0.2216</td>\n",
              "      <td>0.2060</td>\n",
              "      <td>0.07115</td>\n",
              "      <td>NaN</td>\n",
              "    </tr>\n",
              "    <tr>\n",
              "      <th>565</th>\n",
              "      <td>926682</td>\n",
              "      <td>M</td>\n",
              "      <td>20.13</td>\n",
              "      <td>28.25</td>\n",
              "      <td>131.20</td>\n",
              "      <td>1261.0</td>\n",
              "      <td>0.09780</td>\n",
              "      <td>0.10340</td>\n",
              "      <td>0.14400</td>\n",
              "      <td>0.09791</td>\n",
              "      <td>0.1752</td>\n",
              "      <td>0.05533</td>\n",
              "      <td>0.7655</td>\n",
              "      <td>2.4630</td>\n",
              "      <td>5.203</td>\n",
              "      <td>99.04</td>\n",
              "      <td>0.005769</td>\n",
              "      <td>0.02423</td>\n",
              "      <td>0.03950</td>\n",
              "      <td>0.01678</td>\n",
              "      <td>0.01898</td>\n",
              "      <td>0.002498</td>\n",
              "      <td>23.690</td>\n",
              "      <td>38.25</td>\n",
              "      <td>155.00</td>\n",
              "      <td>1731.0</td>\n",
              "      <td>0.11660</td>\n",
              "      <td>0.19220</td>\n",
              "      <td>0.3215</td>\n",
              "      <td>0.1628</td>\n",
              "      <td>0.2572</td>\n",
              "      <td>0.06637</td>\n",
              "      <td>NaN</td>\n",
              "    </tr>\n",
              "    <tr>\n",
              "      <th>566</th>\n",
              "      <td>926954</td>\n",
              "      <td>M</td>\n",
              "      <td>16.60</td>\n",
              "      <td>28.08</td>\n",
              "      <td>108.30</td>\n",
              "      <td>858.1</td>\n",
              "      <td>0.08455</td>\n",
              "      <td>0.10230</td>\n",
              "      <td>0.09251</td>\n",
              "      <td>0.05302</td>\n",
              "      <td>0.1590</td>\n",
              "      <td>0.05648</td>\n",
              "      <td>0.4564</td>\n",
              "      <td>1.0750</td>\n",
              "      <td>3.425</td>\n",
              "      <td>48.55</td>\n",
              "      <td>0.005903</td>\n",
              "      <td>0.03731</td>\n",
              "      <td>0.04730</td>\n",
              "      <td>0.01557</td>\n",
              "      <td>0.01318</td>\n",
              "      <td>0.003892</td>\n",
              "      <td>18.980</td>\n",
              "      <td>34.12</td>\n",
              "      <td>126.70</td>\n",
              "      <td>1124.0</td>\n",
              "      <td>0.11390</td>\n",
              "      <td>0.30940</td>\n",
              "      <td>0.3403</td>\n",
              "      <td>0.1418</td>\n",
              "      <td>0.2218</td>\n",
              "      <td>0.07820</td>\n",
              "      <td>NaN</td>\n",
              "    </tr>\n",
              "    <tr>\n",
              "      <th>567</th>\n",
              "      <td>927241</td>\n",
              "      <td>M</td>\n",
              "      <td>20.60</td>\n",
              "      <td>29.33</td>\n",
              "      <td>140.10</td>\n",
              "      <td>1265.0</td>\n",
              "      <td>0.11780</td>\n",
              "      <td>0.27700</td>\n",
              "      <td>0.35140</td>\n",
              "      <td>0.15200</td>\n",
              "      <td>0.2397</td>\n",
              "      <td>0.07016</td>\n",
              "      <td>0.7260</td>\n",
              "      <td>1.5950</td>\n",
              "      <td>5.772</td>\n",
              "      <td>86.22</td>\n",
              "      <td>0.006522</td>\n",
              "      <td>0.06158</td>\n",
              "      <td>0.07117</td>\n",
              "      <td>0.01664</td>\n",
              "      <td>0.02324</td>\n",
              "      <td>0.006185</td>\n",
              "      <td>25.740</td>\n",
              "      <td>39.42</td>\n",
              "      <td>184.60</td>\n",
              "      <td>1821.0</td>\n",
              "      <td>0.16500</td>\n",
              "      <td>0.86810</td>\n",
              "      <td>0.9387</td>\n",
              "      <td>0.2650</td>\n",
              "      <td>0.4087</td>\n",
              "      <td>0.12400</td>\n",
              "      <td>NaN</td>\n",
              "    </tr>\n",
              "    <tr>\n",
              "      <th>568</th>\n",
              "      <td>92751</td>\n",
              "      <td>B</td>\n",
              "      <td>7.76</td>\n",
              "      <td>24.54</td>\n",
              "      <td>47.92</td>\n",
              "      <td>181.0</td>\n",
              "      <td>0.05263</td>\n",
              "      <td>0.04362</td>\n",
              "      <td>0.00000</td>\n",
              "      <td>0.00000</td>\n",
              "      <td>0.1587</td>\n",
              "      <td>0.05884</td>\n",
              "      <td>0.3857</td>\n",
              "      <td>1.4280</td>\n",
              "      <td>2.548</td>\n",
              "      <td>19.15</td>\n",
              "      <td>0.007189</td>\n",
              "      <td>0.00466</td>\n",
              "      <td>0.00000</td>\n",
              "      <td>0.00000</td>\n",
              "      <td>0.02676</td>\n",
              "      <td>0.002783</td>\n",
              "      <td>9.456</td>\n",
              "      <td>30.37</td>\n",
              "      <td>59.16</td>\n",
              "      <td>268.6</td>\n",
              "      <td>0.08996</td>\n",
              "      <td>0.06444</td>\n",
              "      <td>0.0000</td>\n",
              "      <td>0.0000</td>\n",
              "      <td>0.2871</td>\n",
              "      <td>0.07039</td>\n",
              "      <td>NaN</td>\n",
              "    </tr>\n",
              "  </tbody>\n",
              "</table>\n",
              "<p>569 rows × 33 columns</p>\n",
              "</div>"
            ],
            "text/plain": [
              "           id diagnosis  ...  fractal_dimension_worst  Unnamed: 32\n",
              "0      842302         M  ...                  0.11890          NaN\n",
              "1      842517         M  ...                  0.08902          NaN\n",
              "2    84300903         M  ...                  0.08758          NaN\n",
              "3    84348301         M  ...                  0.17300          NaN\n",
              "4    84358402         M  ...                  0.07678          NaN\n",
              "..        ...       ...  ...                      ...          ...\n",
              "564    926424         M  ...                  0.07115          NaN\n",
              "565    926682         M  ...                  0.06637          NaN\n",
              "566    926954         M  ...                  0.07820          NaN\n",
              "567    927241         M  ...                  0.12400          NaN\n",
              "568     92751         B  ...                  0.07039          NaN\n",
              "\n",
              "[569 rows x 33 columns]"
            ]
          },
          "metadata": {},
          "execution_count": 8
        }
      ]
    },
    {
      "cell_type": "markdown",
      "metadata": {
        "id": "PwX7_tswgJx6"
      },
      "source": [
        "# **Dealing with missing values and categorical values**"
      ]
    },
    {
      "cell_type": "code",
      "metadata": {
        "id": "P06-jv8CcNJ2"
      },
      "source": [
        "#to drop the columns\n",
        "df.drop(['Unnamed: 32','id'],axis=1,inplace=True)"
      ],
      "execution_count": null,
      "outputs": []
    },
    {
      "cell_type": "code",
      "metadata": {
        "id": "RiztwUjZxYx6"
      },
      "source": [
        "#dealing with categorical data\n",
        "df['diagnosis'].mask(df['diagnosis'] == 'M', 1 , inplace=True)\n",
        "df['diagnosis'].mask(df['diagnosis'] == 'B', 0 , inplace=True)"
      ],
      "execution_count": null,
      "outputs": []
    },
    {
      "cell_type": "code",
      "metadata": {
        "colab": {
          "base_uri": "https://localhost:8080/",
          "height": 241
        },
        "id": "pPGpyczouk6d",
        "outputId": "3c36fa01-1f38-42d6-de63-d2b605d1d12d"
      },
      "source": [
        "#to display fist five row of the data\n",
        "df.head()"
      ],
      "execution_count": null,
      "outputs": [
        {
          "output_type": "execute_result",
          "data": {
            "text/html": [
              "<div>\n",
              "<style scoped>\n",
              "    .dataframe tbody tr th:only-of-type {\n",
              "        vertical-align: middle;\n",
              "    }\n",
              "\n",
              "    .dataframe tbody tr th {\n",
              "        vertical-align: top;\n",
              "    }\n",
              "\n",
              "    .dataframe thead th {\n",
              "        text-align: right;\n",
              "    }\n",
              "</style>\n",
              "<table border=\"1\" class=\"dataframe\">\n",
              "  <thead>\n",
              "    <tr style=\"text-align: right;\">\n",
              "      <th></th>\n",
              "      <th>diagnosis</th>\n",
              "      <th>radius_mean</th>\n",
              "      <th>texture_mean</th>\n",
              "      <th>perimeter_mean</th>\n",
              "      <th>area_mean</th>\n",
              "      <th>smoothness_mean</th>\n",
              "      <th>compactness_mean</th>\n",
              "      <th>concavity_mean</th>\n",
              "      <th>concave points_mean</th>\n",
              "      <th>symmetry_mean</th>\n",
              "      <th>fractal_dimension_mean</th>\n",
              "      <th>radius_se</th>\n",
              "      <th>texture_se</th>\n",
              "      <th>perimeter_se</th>\n",
              "      <th>area_se</th>\n",
              "      <th>smoothness_se</th>\n",
              "      <th>compactness_se</th>\n",
              "      <th>concavity_se</th>\n",
              "      <th>concave points_se</th>\n",
              "      <th>symmetry_se</th>\n",
              "      <th>fractal_dimension_se</th>\n",
              "      <th>radius_worst</th>\n",
              "      <th>texture_worst</th>\n",
              "      <th>perimeter_worst</th>\n",
              "      <th>area_worst</th>\n",
              "      <th>smoothness_worst</th>\n",
              "      <th>compactness_worst</th>\n",
              "      <th>concavity_worst</th>\n",
              "      <th>concave points_worst</th>\n",
              "      <th>symmetry_worst</th>\n",
              "      <th>fractal_dimension_worst</th>\n",
              "    </tr>\n",
              "  </thead>\n",
              "  <tbody>\n",
              "    <tr>\n",
              "      <th>0</th>\n",
              "      <td>1</td>\n",
              "      <td>17.99</td>\n",
              "      <td>10.38</td>\n",
              "      <td>122.80</td>\n",
              "      <td>1001.0</td>\n",
              "      <td>0.11840</td>\n",
              "      <td>0.27760</td>\n",
              "      <td>0.3001</td>\n",
              "      <td>0.14710</td>\n",
              "      <td>0.2419</td>\n",
              "      <td>0.07871</td>\n",
              "      <td>1.0950</td>\n",
              "      <td>0.9053</td>\n",
              "      <td>8.589</td>\n",
              "      <td>153.40</td>\n",
              "      <td>0.006399</td>\n",
              "      <td>0.04904</td>\n",
              "      <td>0.05373</td>\n",
              "      <td>0.01587</td>\n",
              "      <td>0.03003</td>\n",
              "      <td>0.006193</td>\n",
              "      <td>25.38</td>\n",
              "      <td>17.33</td>\n",
              "      <td>184.60</td>\n",
              "      <td>2019.0</td>\n",
              "      <td>0.1622</td>\n",
              "      <td>0.6656</td>\n",
              "      <td>0.7119</td>\n",
              "      <td>0.2654</td>\n",
              "      <td>0.4601</td>\n",
              "      <td>0.11890</td>\n",
              "    </tr>\n",
              "    <tr>\n",
              "      <th>1</th>\n",
              "      <td>1</td>\n",
              "      <td>20.57</td>\n",
              "      <td>17.77</td>\n",
              "      <td>132.90</td>\n",
              "      <td>1326.0</td>\n",
              "      <td>0.08474</td>\n",
              "      <td>0.07864</td>\n",
              "      <td>0.0869</td>\n",
              "      <td>0.07017</td>\n",
              "      <td>0.1812</td>\n",
              "      <td>0.05667</td>\n",
              "      <td>0.5435</td>\n",
              "      <td>0.7339</td>\n",
              "      <td>3.398</td>\n",
              "      <td>74.08</td>\n",
              "      <td>0.005225</td>\n",
              "      <td>0.01308</td>\n",
              "      <td>0.01860</td>\n",
              "      <td>0.01340</td>\n",
              "      <td>0.01389</td>\n",
              "      <td>0.003532</td>\n",
              "      <td>24.99</td>\n",
              "      <td>23.41</td>\n",
              "      <td>158.80</td>\n",
              "      <td>1956.0</td>\n",
              "      <td>0.1238</td>\n",
              "      <td>0.1866</td>\n",
              "      <td>0.2416</td>\n",
              "      <td>0.1860</td>\n",
              "      <td>0.2750</td>\n",
              "      <td>0.08902</td>\n",
              "    </tr>\n",
              "    <tr>\n",
              "      <th>2</th>\n",
              "      <td>1</td>\n",
              "      <td>19.69</td>\n",
              "      <td>21.25</td>\n",
              "      <td>130.00</td>\n",
              "      <td>1203.0</td>\n",
              "      <td>0.10960</td>\n",
              "      <td>0.15990</td>\n",
              "      <td>0.1974</td>\n",
              "      <td>0.12790</td>\n",
              "      <td>0.2069</td>\n",
              "      <td>0.05999</td>\n",
              "      <td>0.7456</td>\n",
              "      <td>0.7869</td>\n",
              "      <td>4.585</td>\n",
              "      <td>94.03</td>\n",
              "      <td>0.006150</td>\n",
              "      <td>0.04006</td>\n",
              "      <td>0.03832</td>\n",
              "      <td>0.02058</td>\n",
              "      <td>0.02250</td>\n",
              "      <td>0.004571</td>\n",
              "      <td>23.57</td>\n",
              "      <td>25.53</td>\n",
              "      <td>152.50</td>\n",
              "      <td>1709.0</td>\n",
              "      <td>0.1444</td>\n",
              "      <td>0.4245</td>\n",
              "      <td>0.4504</td>\n",
              "      <td>0.2430</td>\n",
              "      <td>0.3613</td>\n",
              "      <td>0.08758</td>\n",
              "    </tr>\n",
              "    <tr>\n",
              "      <th>3</th>\n",
              "      <td>1</td>\n",
              "      <td>11.42</td>\n",
              "      <td>20.38</td>\n",
              "      <td>77.58</td>\n",
              "      <td>386.1</td>\n",
              "      <td>0.14250</td>\n",
              "      <td>0.28390</td>\n",
              "      <td>0.2414</td>\n",
              "      <td>0.10520</td>\n",
              "      <td>0.2597</td>\n",
              "      <td>0.09744</td>\n",
              "      <td>0.4956</td>\n",
              "      <td>1.1560</td>\n",
              "      <td>3.445</td>\n",
              "      <td>27.23</td>\n",
              "      <td>0.009110</td>\n",
              "      <td>0.07458</td>\n",
              "      <td>0.05661</td>\n",
              "      <td>0.01867</td>\n",
              "      <td>0.05963</td>\n",
              "      <td>0.009208</td>\n",
              "      <td>14.91</td>\n",
              "      <td>26.50</td>\n",
              "      <td>98.87</td>\n",
              "      <td>567.7</td>\n",
              "      <td>0.2098</td>\n",
              "      <td>0.8663</td>\n",
              "      <td>0.6869</td>\n",
              "      <td>0.2575</td>\n",
              "      <td>0.6638</td>\n",
              "      <td>0.17300</td>\n",
              "    </tr>\n",
              "    <tr>\n",
              "      <th>4</th>\n",
              "      <td>1</td>\n",
              "      <td>20.29</td>\n",
              "      <td>14.34</td>\n",
              "      <td>135.10</td>\n",
              "      <td>1297.0</td>\n",
              "      <td>0.10030</td>\n",
              "      <td>0.13280</td>\n",
              "      <td>0.1980</td>\n",
              "      <td>0.10430</td>\n",
              "      <td>0.1809</td>\n",
              "      <td>0.05883</td>\n",
              "      <td>0.7572</td>\n",
              "      <td>0.7813</td>\n",
              "      <td>5.438</td>\n",
              "      <td>94.44</td>\n",
              "      <td>0.011490</td>\n",
              "      <td>0.02461</td>\n",
              "      <td>0.05688</td>\n",
              "      <td>0.01885</td>\n",
              "      <td>0.01756</td>\n",
              "      <td>0.005115</td>\n",
              "      <td>22.54</td>\n",
              "      <td>16.67</td>\n",
              "      <td>152.20</td>\n",
              "      <td>1575.0</td>\n",
              "      <td>0.1374</td>\n",
              "      <td>0.2050</td>\n",
              "      <td>0.4000</td>\n",
              "      <td>0.1625</td>\n",
              "      <td>0.2364</td>\n",
              "      <td>0.07678</td>\n",
              "    </tr>\n",
              "  </tbody>\n",
              "</table>\n",
              "</div>"
            ],
            "text/plain": [
              "  diagnosis  radius_mean  ...  symmetry_worst  fractal_dimension_worst\n",
              "0         1        17.99  ...          0.4601                  0.11890\n",
              "1         1        20.57  ...          0.2750                  0.08902\n",
              "2         1        19.69  ...          0.3613                  0.08758\n",
              "3         1        11.42  ...          0.6638                  0.17300\n",
              "4         1        20.29  ...          0.2364                  0.07678\n",
              "\n",
              "[5 rows x 31 columns]"
            ]
          },
          "metadata": {},
          "execution_count": 11
        }
      ]
    },
    {
      "cell_type": "code",
      "metadata": {
        "colab": {
          "base_uri": "https://localhost:8080/"
        },
        "id": "0l5CMnztqhnw",
        "outputId": "c8aea803-129e-4dde-8751-b4f37da0bac4"
      },
      "source": [
        "print(\"Cancer data set dimensions : {}\".format(df.shape))"
      ],
      "execution_count": null,
      "outputs": [
        {
          "output_type": "stream",
          "name": "stdout",
          "text": [
            "Cancer data set dimensions : (569, 31)\n"
          ]
        }
      ]
    },
    {
      "cell_type": "code",
      "metadata": {
        "colab": {
          "base_uri": "https://localhost:8080/"
        },
        "id": "GO6QqNrOrj2U",
        "outputId": "4be9cd07-916f-41f5-986f-dee17772bbfd"
      },
      "source": [
        "df.groupby('diagnosis').size()"
      ],
      "execution_count": null,
      "outputs": [
        {
          "output_type": "execute_result",
          "data": {
            "text/plain": [
              "diagnosis\n",
              "0    357\n",
              "1    212\n",
              "dtype: int64"
            ]
          },
          "metadata": {},
          "execution_count": 13
        }
      ]
    },
    {
      "cell_type": "code",
      "metadata": {
        "colab": {
          "base_uri": "https://localhost:8080/",
          "height": 382
        },
        "id": "tRcXteh9udF8",
        "outputId": "8986b401-8e3d-4f27-d0be-0a37c435dd41"
      },
      "source": [
        "#heatmap\n",
        "# no null values\n",
        "heat_map = sns.heatmap(df.isnull(), yticklabels = False, cbar = True, cmap = \"PuRd\")\n",
        "plt.show()"
      ],
      "execution_count": null,
      "outputs": [
        {
          "output_type": "display_data",
          "data": {
            "image/png": "[encoded data removed]",
            "text/plain": [
              "<Figure size 432x288 with 2 Axes>"
            ]
          },
          "metadata": {
            "needs_background": "light"
          }
        }
      ]
    },
    {
      "cell_type": "markdown",
      "metadata": {
        "id": "acQjNPwIga5b"
      },
      "source": [
        "# **Countplot**"
      ]
    },
    {
      "cell_type": "code",
      "metadata": {
        "colab": {
          "base_uri": "https://localhost:8080/",
          "height": 296
        },
        "id": "4eJICc2HsFgO",
        "outputId": "8b3a14b1-bab9-4046-d89e-681276e2a74f"
      },
      "source": [
        "sns.countplot(data=df, x='diagnosis')"
      ],
      "execution_count": null,
      "outputs": [
        {
          "output_type": "execute_result",
          "data": {
            "text/plain": [
              "<matplotlib.axes._subplots.AxesSubplot at 0x7fd437f14b10>"
            ]
          },
          "metadata": {},
          "execution_count": 15
        },
        {
          "output_type": "display_data",
          "data": {
            "image/png": "[encoded data removed]",
            "text/plain": [
              "<Figure size 432x288 with 1 Axes>"
            ]
          },
          "metadata": {
            "needs_background": "light"
          }
        }
      ]
    },
    {
      "cell_type": "code",
      "metadata": {
        "colab": {
          "base_uri": "https://localhost:8080/"
        },
        "id": "eY9D77y7uIri",
        "outputId": "0825c7ce-9250-4fcc-eb47-ce42cca5a3eb"
      },
      "source": [
        "df.info()"
      ],
      "execution_count": null,
      "outputs": [
        {
          "output_type": "stream",
          "name": "stdout",
          "text": [
            "<class 'pandas.core.frame.DataFrame'>\n",
            "RangeIndex: 569 entries, 0 to 568\n",
            "Data columns (total 31 columns):\n",
            " #   Column                   Non-Null Count  Dtype  \n",
            "---  ------                   --------------  -----  \n",
            " 0   diagnosis                569 non-null    object \n",
            " 1   radius_mean              569 non-null    float64\n",
            " 2   texture_mean             569 non-null    float64\n",
            " 3   perimeter_mean           569 non-null    float64\n",
            " 4   area_mean                569 non-null    float64\n",
            " 5   smoothness_mean          569 non-null    float64\n",
            " 6   compactness_mean         569 non-null    float64\n",
            " 7   concavity_mean           569 non-null    float64\n",
            " 8   concave points_mean      569 non-null    float64\n",
            " 9   symmetry_mean            569 non-null    float64\n",
            " 10  fractal_dimension_mean   569 non-null    float64\n",
            " 11  radius_se                569 non-null    float64\n",
            " 12  texture_se               569 non-null    float64\n",
            " 13  perimeter_se             569 non-null    float64\n",
            " 14  area_se                  569 non-null    float64\n",
            " 15  smoothness_se            569 non-null    float64\n",
            " 16  compactness_se           569 non-null    float64\n",
            " 17  concavity_se             569 non-null    float64\n",
            " 18  concave points_se        569 non-null    float64\n",
            " 19  symmetry_se              569 non-null    float64\n",
            " 20  fractal_dimension_se     569 non-null    float64\n",
            " 21  radius_worst             569 non-null    float64\n",
            " 22  texture_worst            569 non-null    float64\n",
            " 23  perimeter_worst          569 non-null    float64\n",
            " 24  area_worst               569 non-null    float64\n",
            " 25  smoothness_worst         569 non-null    float64\n",
            " 26  compactness_worst        569 non-null    float64\n",
            " 27  concavity_worst          569 non-null    float64\n",
            " 28  concave points_worst     569 non-null    float64\n",
            " 29  symmetry_worst           569 non-null    float64\n",
            " 30  fractal_dimension_worst  569 non-null    float64\n",
            "dtypes: float64(30), object(1)\n",
            "memory usage: 137.9+ KB\n"
          ]
        }
      ]
    },
    {
      "cell_type": "markdown",
      "metadata": {
        "id": "S4MXfQ_mgsV6"
      },
      "source": [
        "# **Splitting the dataset train and test set**"
      ]
    },
    {
      "cell_type": "code",
      "metadata": {
        "colab": {
          "base_uri": "https://localhost:8080/"
        },
        "id": "Zedv1jaLo4Eu",
        "outputId": "036ebb6e-e24d-4f6a-8fb7-5070c614e952"
      },
      "source": [
        "# independent variables\n",
        "X = df.drop('diagnosis',axis=1)\n",
        "\n",
        "#dependent variables\n",
        "Y = df.diagnosis\n",
        "Y = Y.astype('float64')\n",
        "Y"
      ],
      "execution_count": null,
      "outputs": [
        {
          "output_type": "execute_result",
          "data": {
            "text/plain": [
              "0      1.0\n",
              "1      1.0\n",
              "2      1.0\n",
              "3      1.0\n",
              "4      1.0\n",
              "      ... \n",
              "564    1.0\n",
              "565    1.0\n",
              "566    1.0\n",
              "567    1.0\n",
              "568    0.0\n",
              "Name: diagnosis, Length: 569, dtype: float64"
            ]
          },
          "metadata": {},
          "execution_count": 17
        }
      ]
    },
    {
      "cell_type": "code",
      "metadata": {
        "id": "T2v3YTZtpAI_"
      },
      "source": [
        "from sklearn.preprocessing import LabelEncoder\n",
        "\n",
        "#creating the object\n",
        "lb = LabelEncoder()\n",
        "Y = lb.fit_transform(Y)"
      ],
      "execution_count": null,
      "outputs": []
    },
    {
      "cell_type": "code",
      "metadata": {
        "id": "aCr-8hr4bOgk"
      },
      "source": [
        "from sklearn.model_selection import train_test_split"
      ],
      "execution_count": null,
      "outputs": []
    },
    {
      "cell_type": "code",
      "metadata": {
        "id": "11TGupB1vBv-"
      },
      "source": [
        "X_train, X_test, y_train, y_test = train_test_split(X, Y, test_size = 0.2, random_state = 40)"
      ],
      "execution_count": null,
      "outputs": []
    },
    {
      "cell_type": "code",
      "metadata": {
        "id": "sVVQB8rhvhwI"
      },
      "source": [
        "from sklearn.preprocessing import StandardScaler\n",
        "\n",
        "#creating object\n",
        "sc = StandardScaler()\n",
        "X_train = sc.fit_transform(X_train)\n",
        "X_test = sc.transform(X_test)"
      ],
      "execution_count": null,
      "outputs": []
    },
    {
      "cell_type": "markdown",
      "metadata": {
        "id": "kQyOetLFgxQt"
      },
      "source": [
        "# **Creating the model of ANN**"
      ]
    },
    {
      "cell_type": "code",
      "metadata": {
        "id": "rWoVguQkrRHu"
      },
      "source": [
        "#importing keras\n",
        "import keras\n",
        "#importing sequential module\n",
        "from keras.models import Sequential\n",
        "#import dense module for hidden layers\n",
        "from keras.layers import Dense\n",
        "#importing activation functions\n",
        "from keras.layers import LeakyReLU,PReLU,ELU\n",
        "from keras.layers import Dropout"
      ],
      "execution_count": null,
      "outputs": []
    },
    {
      "cell_type": "code",
      "metadata": {
        "id": "U-5hWwPDrqJ_"
      },
      "source": [
        "#creating model\n",
        "ann = Sequential()\n",
        "\n",
        "#first hidden layer\n",
        "ann.add(Dense(units=9,kernel_initializer='he_uniform',activation='relu',input_dim=30))\n",
        "\n",
        "#second hidden layer\n",
        "ann.add(Dense(units=9,kernel_initializer='he_uniform',activation='relu'))\n",
        "\n",
        "#last layer or output layer\n",
        "ann.add(Dense(units=1,kernel_initializer='glorot_uniform',activation='sigmoid'))"
      ],
      "execution_count": null,
      "outputs": []
    },
    {
      "cell_type": "code",
      "metadata": {
        "colab": {
          "base_uri": "https://localhost:8080/"
        },
        "id": "MVrtcNfzsceZ",
        "outputId": "4b1bb237-e5bd-416f-82eb-470a9b9f16c7"
      },
      "source": [
        "#taking summary of layers\n",
        "ann.summary()"
      ],
      "execution_count": null,
      "outputs": [
        {
          "output_type": "stream",
          "name": "stdout",
          "text": [
            "Model: \"sequential\"\n",
            "_________________________________________________________________\n",
            "Layer (type)                 Output Shape              Param #   \n",
            "=================================================================\n",
            "dense (Dense)                (None, 9)                 279       \n",
            "_________________________________________________________________\n",
            "dense_1 (Dense)              (None, 9)                 90        \n",
            "_________________________________________________________________\n",
            "dense_2 (Dense)              (None, 1)                 10        \n",
            "=================================================================\n",
            "Total params: 379\n",
            "Trainable params: 379\n",
            "Non-trainable params: 0\n",
            "_________________________________________________________________\n"
          ]
        }
      ]
    },
    {
      "cell_type": "code",
      "metadata": {
        "id": "ahe3j6llsnx3"
      },
      "source": [
        "#compiling the ANN\n",
        "ann.compile(optimizer='adam', loss='binary_crossentropy', metrics=['accuracy'])"
      ],
      "execution_count": null,
      "outputs": []
    },
    {
      "cell_type": "code",
      "metadata": {
        "colab": {
          "base_uri": "https://localhost:8080/"
        },
        "id": "XcELNxkEsqAn",
        "outputId": "4d3e2166-275e-419c-f280-9017b68ee8aa"
      },
      "source": [
        "#fitting the ANN to the training set\n",
        "model = ann.fit(X_train, y_train, validation_split=0.33, batch_size=100, epochs=100)"
      ],
      "execution_count": null,
      "outputs": [
        {
          "output_type": "stream",
          "name": "stdout",
          "text": [
            "Epoch 1/100\n",
            "4/4 [==============================] - 1s 55ms/step - loss: 0.7830 - accuracy: 0.5329 - val_loss: 0.7146 - val_accuracy: 0.6159\n",
            "Epoch 2/100\n",
            "4/4 [==============================] - 0s 7ms/step - loss: 0.7425 - accuracy: 0.5658 - val_loss: 0.6794 - val_accuracy: 0.6490\n",
            "Epoch 3/100\n",
            "4/4 [==============================] - 0s 8ms/step - loss: 0.7056 - accuracy: 0.6118 - val_loss: 0.6467 - val_accuracy: 0.6623\n",
            "Epoch 4/100\n",
            "4/4 [==============================] - 0s 7ms/step - loss: 0.6706 - accuracy: 0.6645 - val_loss: 0.6181 - val_accuracy: 0.6954\n",
            "Epoch 5/100\n",
            "4/4 [==============================] - 0s 8ms/step - loss: 0.6389 - accuracy: 0.6908 - val_loss: 0.5915 - val_accuracy: 0.7086\n",
            "Epoch 6/100\n",
            "4/4 [==============================] - 0s 9ms/step - loss: 0.6082 - accuracy: 0.7105 - val_loss: 0.5674 - val_accuracy: 0.7351\n",
            "Epoch 7/100\n",
            "4/4 [==============================] - 0s 9ms/step - loss: 0.5801 - accuracy: 0.7303 - val_loss: 0.5440 - val_accuracy: 0.7483\n",
            "Epoch 8/100\n",
            "4/4 [==============================] - 0s 15ms/step - loss: 0.5519 - accuracy: 0.7632 - val_loss: 0.5225 - val_accuracy: 0.7682\n",
            "Epoch 9/100\n",
            "4/4 [==============================] - 0s 7ms/step - loss: 0.5262 - accuracy: 0.7895 - val_loss: 0.5022 - val_accuracy: 0.7815\n",
            "Epoch 10/100\n",
            "4/4 [==============================] - 0s 7ms/step - loss: 0.5020 - accuracy: 0.8026 - val_loss: 0.4825 - val_accuracy: 0.7947\n",
            "Epoch 11/100\n",
            "4/4 [==============================] - 0s 9ms/step - loss: 0.4796 - accuracy: 0.8289 - val_loss: 0.4635 - val_accuracy: 0.8344\n",
            "Epoch 12/100\n",
            "4/4 [==============================] - 0s 7ms/step - loss: 0.4586 - accuracy: 0.8520 - val_loss: 0.4450 - val_accuracy: 0.8609\n",
            "Epoch 13/100\n",
            "4/4 [==============================] - 0s 8ms/step - loss: 0.4396 - accuracy: 0.8684 - val_loss: 0.4272 - val_accuracy: 0.8742\n",
            "Epoch 14/100\n",
            "4/4 [==============================] - 0s 8ms/step - loss: 0.4211 - accuracy: 0.8783 - val_loss: 0.4105 - val_accuracy: 0.8940\n",
            "Epoch 15/100\n",
            "4/4 [==============================] - 0s 7ms/step - loss: 0.4037 - accuracy: 0.8947 - val_loss: 0.3940 - val_accuracy: 0.9007\n",
            "Epoch 16/100\n",
            "4/4 [==============================] - 0s 7ms/step - loss: 0.3872 - accuracy: 0.8947 - val_loss: 0.3781 - val_accuracy: 0.9073\n",
            "Epoch 17/100\n",
            "4/4 [==============================] - 0s 7ms/step - loss: 0.3715 - accuracy: 0.9013 - val_loss: 0.3639 - val_accuracy: 0.9139\n",
            "Epoch 18/100\n",
            "4/4 [==============================] - 0s 9ms/step - loss: 0.3571 - accuracy: 0.9046 - val_loss: 0.3505 - val_accuracy: 0.9139\n",
            "Epoch 19/100\n",
            "4/4 [==============================] - 0s 7ms/step - loss: 0.3426 - accuracy: 0.9079 - val_loss: 0.3370 - val_accuracy: 0.9205\n",
            "Epoch 20/100\n",
            "4/4 [==============================] - 0s 8ms/step - loss: 0.3285 - accuracy: 0.9112 - val_loss: 0.3236 - val_accuracy: 0.9205\n",
            "Epoch 21/100\n",
            "4/4 [==============================] - 0s 9ms/step - loss: 0.3155 - accuracy: 0.9112 - val_loss: 0.3109 - val_accuracy: 0.9272\n",
            "Epoch 22/100\n",
            "4/4 [==============================] - 0s 8ms/step - loss: 0.3025 - accuracy: 0.9112 - val_loss: 0.2990 - val_accuracy: 0.9272\n",
            "Epoch 23/100\n",
            "4/4 [==============================] - 0s 7ms/step - loss: 0.2908 - accuracy: 0.9145 - val_loss: 0.2880 - val_accuracy: 0.9272\n",
            "Epoch 24/100\n",
            "4/4 [==============================] - 0s 9ms/step - loss: 0.2798 - accuracy: 0.9178 - val_loss: 0.2778 - val_accuracy: 0.9272\n",
            "Epoch 25/100\n",
            "4/4 [==============================] - 0s 8ms/step - loss: 0.2695 - accuracy: 0.9178 - val_loss: 0.2684 - val_accuracy: 0.9272\n",
            "Epoch 26/100\n",
            "4/4 [==============================] - 0s 7ms/step - loss: 0.2600 - accuracy: 0.9211 - val_loss: 0.2595 - val_accuracy: 0.9338\n",
            "Epoch 27/100\n",
            "4/4 [==============================] - 0s 7ms/step - loss: 0.2511 - accuracy: 0.9211 - val_loss: 0.2512 - val_accuracy: 0.9338\n",
            "Epoch 28/100\n",
            "4/4 [==============================] - 0s 8ms/step - loss: 0.2427 - accuracy: 0.9211 - val_loss: 0.2432 - val_accuracy: 0.9338\n",
            "Epoch 29/100\n",
            "4/4 [==============================] - 0s 9ms/step - loss: 0.2351 - accuracy: 0.9211 - val_loss: 0.2357 - val_accuracy: 0.9338\n",
            "Epoch 30/100\n",
            "4/4 [==============================] - 0s 11ms/step - loss: 0.2279 - accuracy: 0.9243 - val_loss: 0.2288 - val_accuracy: 0.9338\n",
            "Epoch 31/100\n",
            "4/4 [==============================] - 0s 9ms/step - loss: 0.2212 - accuracy: 0.9243 - val_loss: 0.2223 - val_accuracy: 0.9338\n",
            "Epoch 32/100\n",
            "4/4 [==============================] - 0s 9ms/step - loss: 0.2147 - accuracy: 0.9243 - val_loss: 0.2159 - val_accuracy: 0.9338\n",
            "Epoch 33/100\n",
            "4/4 [==============================] - 0s 10ms/step - loss: 0.2084 - accuracy: 0.9276 - val_loss: 0.2099 - val_accuracy: 0.9338\n",
            "Epoch 34/100\n",
            "4/4 [==============================] - 0s 10ms/step - loss: 0.2025 - accuracy: 0.9276 - val_loss: 0.2042 - val_accuracy: 0.9404\n",
            "Epoch 35/100\n",
            "4/4 [==============================] - 0s 9ms/step - loss: 0.1971 - accuracy: 0.9276 - val_loss: 0.1989 - val_accuracy: 0.9404\n",
            "Epoch 36/100\n",
            "4/4 [==============================] - 0s 8ms/step - loss: 0.1916 - accuracy: 0.9276 - val_loss: 0.1939 - val_accuracy: 0.9404\n",
            "Epoch 37/100\n",
            "4/4 [==============================] - 0s 9ms/step - loss: 0.1871 - accuracy: 0.9309 - val_loss: 0.1889 - val_accuracy: 0.9536\n",
            "Epoch 38/100\n",
            "4/4 [==============================] - 0s 11ms/step - loss: 0.1828 - accuracy: 0.9342 - val_loss: 0.1843 - val_accuracy: 0.9536\n",
            "Epoch 39/100\n",
            "4/4 [==============================] - 0s 7ms/step - loss: 0.1787 - accuracy: 0.9375 - val_loss: 0.1800 - val_accuracy: 0.9536\n",
            "Epoch 40/100\n",
            "4/4 [==============================] - 0s 8ms/step - loss: 0.1750 - accuracy: 0.9375 - val_loss: 0.1757 - val_accuracy: 0.9536\n",
            "Epoch 41/100\n",
            "4/4 [==============================] - 0s 8ms/step - loss: 0.1713 - accuracy: 0.9375 - val_loss: 0.1715 - val_accuracy: 0.9536\n",
            "Epoch 42/100\n",
            "4/4 [==============================] - 0s 8ms/step - loss: 0.1680 - accuracy: 0.9375 - val_loss: 0.1673 - val_accuracy: 0.9603\n",
            "Epoch 43/100\n",
            "4/4 [==============================] - 0s 8ms/step - loss: 0.1642 - accuracy: 0.9375 - val_loss: 0.1635 - val_accuracy: 0.9603\n",
            "Epoch 44/100\n",
            "4/4 [==============================] - 0s 8ms/step - loss: 0.1608 - accuracy: 0.9375 - val_loss: 0.1599 - val_accuracy: 0.9603\n",
            "Epoch 45/100\n",
            "4/4 [==============================] - 0s 8ms/step - loss: 0.1574 - accuracy: 0.9375 - val_loss: 0.1566 - val_accuracy: 0.9669\n",
            "Epoch 46/100\n",
            "4/4 [==============================] - 0s 8ms/step - loss: 0.1543 - accuracy: 0.9375 - val_loss: 0.1540 - val_accuracy: 0.9669\n",
            "Epoch 47/100\n",
            "4/4 [==============================] - 0s 8ms/step - loss: 0.1517 - accuracy: 0.9375 - val_loss: 0.1514 - val_accuracy: 0.9669\n",
            "Epoch 48/100\n",
            "4/4 [==============================] - 0s 8ms/step - loss: 0.1490 - accuracy: 0.9375 - val_loss: 0.1489 - val_accuracy: 0.9669\n",
            "Epoch 49/100\n",
            "4/4 [==============================] - 0s 14ms/step - loss: 0.1464 - accuracy: 0.9408 - val_loss: 0.1465 - val_accuracy: 0.9669\n",
            "Epoch 50/100\n",
            "4/4 [==============================] - 0s 8ms/step - loss: 0.1437 - accuracy: 0.9441 - val_loss: 0.1441 - val_accuracy: 0.9669\n",
            "Epoch 51/100\n",
            "4/4 [==============================] - 0s 9ms/step - loss: 0.1411 - accuracy: 0.9474 - val_loss: 0.1417 - val_accuracy: 0.9669\n",
            "Epoch 52/100\n",
            "4/4 [==============================] - 0s 9ms/step - loss: 0.1386 - accuracy: 0.9474 - val_loss: 0.1393 - val_accuracy: 0.9669\n",
            "Epoch 53/100\n",
            "4/4 [==============================] - 0s 8ms/step - loss: 0.1360 - accuracy: 0.9474 - val_loss: 0.1372 - val_accuracy: 0.9603\n",
            "Epoch 54/100\n",
            "4/4 [==============================] - 0s 7ms/step - loss: 0.1337 - accuracy: 0.9539 - val_loss: 0.1352 - val_accuracy: 0.9603\n",
            "Epoch 55/100\n",
            "4/4 [==============================] - 0s 8ms/step - loss: 0.1313 - accuracy: 0.9539 - val_loss: 0.1330 - val_accuracy: 0.9669\n",
            "Epoch 56/100\n",
            "4/4 [==============================] - 0s 8ms/step - loss: 0.1286 - accuracy: 0.9572 - val_loss: 0.1307 - val_accuracy: 0.9735\n",
            "Epoch 57/100\n",
            "4/4 [==============================] - 0s 7ms/step - loss: 0.1262 - accuracy: 0.9572 - val_loss: 0.1287 - val_accuracy: 0.9735\n",
            "Epoch 58/100\n",
            "4/4 [==============================] - 0s 7ms/step - loss: 0.1240 - accuracy: 0.9572 - val_loss: 0.1269 - val_accuracy: 0.9735\n",
            "Epoch 59/100\n",
            "4/4 [==============================] - 0s 7ms/step - loss: 0.1218 - accuracy: 0.9572 - val_loss: 0.1249 - val_accuracy: 0.9735\n",
            "Epoch 60/100\n",
            "4/4 [==============================] - 0s 7ms/step - loss: 0.1197 - accuracy: 0.9572 - val_loss: 0.1232 - val_accuracy: 0.9669\n",
            "Epoch 61/100\n",
            "4/4 [==============================] - 0s 7ms/step - loss: 0.1177 - accuracy: 0.9572 - val_loss: 0.1216 - val_accuracy: 0.9669\n",
            "Epoch 62/100\n",
            "4/4 [==============================] - 0s 7ms/step - loss: 0.1158 - accuracy: 0.9572 - val_loss: 0.1203 - val_accuracy: 0.9669\n",
            "Epoch 63/100\n",
            "4/4 [==============================] - 0s 8ms/step - loss: 0.1140 - accuracy: 0.9572 - val_loss: 0.1191 - val_accuracy: 0.9669\n",
            "Epoch 64/100\n",
            "4/4 [==============================] - 0s 8ms/step - loss: 0.1121 - accuracy: 0.9572 - val_loss: 0.1178 - val_accuracy: 0.9669\n",
            "Epoch 65/100\n",
            "4/4 [==============================] - 0s 8ms/step - loss: 0.1104 - accuracy: 0.9638 - val_loss: 0.1164 - val_accuracy: 0.9669\n",
            "Epoch 66/100\n",
            "4/4 [==============================] - 0s 10ms/step - loss: 0.1082 - accuracy: 0.9638 - val_loss: 0.1153 - val_accuracy: 0.9669\n",
            "Epoch 67/100\n",
            "4/4 [==============================] - 0s 8ms/step - loss: 0.1064 - accuracy: 0.9704 - val_loss: 0.1141 - val_accuracy: 0.9669\n",
            "Epoch 68/100\n",
            "4/4 [==============================] - 0s 9ms/step - loss: 0.1047 - accuracy: 0.9704 - val_loss: 0.1128 - val_accuracy: 0.9669\n",
            "Epoch 69/100\n",
            "4/4 [==============================] - 0s 9ms/step - loss: 0.1026 - accuracy: 0.9704 - val_loss: 0.1114 - val_accuracy: 0.9669\n",
            "Epoch 70/100\n",
            "4/4 [==============================] - 0s 8ms/step - loss: 0.1004 - accuracy: 0.9737 - val_loss: 0.1098 - val_accuracy: 0.9669\n",
            "Epoch 71/100\n",
            "4/4 [==============================] - 0s 8ms/step - loss: 0.0984 - accuracy: 0.9737 - val_loss: 0.1085 - val_accuracy: 0.9669\n",
            "Epoch 72/100\n",
            "4/4 [==============================] - 0s 8ms/step - loss: 0.0966 - accuracy: 0.9737 - val_loss: 0.1073 - val_accuracy: 0.9669\n",
            "Epoch 73/100\n",
            "4/4 [==============================] - 0s 7ms/step - loss: 0.0948 - accuracy: 0.9737 - val_loss: 0.1063 - val_accuracy: 0.9669\n",
            "Epoch 74/100\n",
            "4/4 [==============================] - 0s 9ms/step - loss: 0.0934 - accuracy: 0.9737 - val_loss: 0.1053 - val_accuracy: 0.9669\n",
            "Epoch 75/100\n",
            "4/4 [==============================] - 0s 10ms/step - loss: 0.0920 - accuracy: 0.9737 - val_loss: 0.1044 - val_accuracy: 0.9669\n",
            "Epoch 76/100\n",
            "4/4 [==============================] - 0s 9ms/step - loss: 0.0907 - accuracy: 0.9737 - val_loss: 0.1036 - val_accuracy: 0.9669\n",
            "Epoch 77/100\n",
            "4/4 [==============================] - 0s 12ms/step - loss: 0.0895 - accuracy: 0.9737 - val_loss: 0.1028 - val_accuracy: 0.9669\n",
            "Epoch 78/100\n",
            "4/4 [==============================] - 0s 9ms/step - loss: 0.0883 - accuracy: 0.9737 - val_loss: 0.1021 - val_accuracy: 0.9669\n",
            "Epoch 79/100\n",
            "4/4 [==============================] - 0s 9ms/step - loss: 0.0872 - accuracy: 0.9737 - val_loss: 0.1014 - val_accuracy: 0.9669\n",
            "Epoch 80/100\n",
            "4/4 [==============================] - 0s 8ms/step - loss: 0.0861 - accuracy: 0.9770 - val_loss: 0.1008 - val_accuracy: 0.9669\n",
            "Epoch 81/100\n",
            "4/4 [==============================] - 0s 8ms/step - loss: 0.0850 - accuracy: 0.9770 - val_loss: 0.1002 - val_accuracy: 0.9669\n",
            "Epoch 82/100\n",
            "4/4 [==============================] - 0s 8ms/step - loss: 0.0840 - accuracy: 0.9803 - val_loss: 0.0995 - val_accuracy: 0.9669\n",
            "Epoch 83/100\n",
            "4/4 [==============================] - 0s 8ms/step - loss: 0.0829 - accuracy: 0.9803 - val_loss: 0.0989 - val_accuracy: 0.9669\n",
            "Epoch 84/100\n",
            "4/4 [==============================] - 0s 9ms/step - loss: 0.0820 - accuracy: 0.9836 - val_loss: 0.0983 - val_accuracy: 0.9669\n",
            "Epoch 85/100\n",
            "4/4 [==============================] - 0s 9ms/step - loss: 0.0810 - accuracy: 0.9836 - val_loss: 0.0974 - val_accuracy: 0.9669\n",
            "Epoch 86/100\n",
            "4/4 [==============================] - 0s 8ms/step - loss: 0.0799 - accuracy: 0.9836 - val_loss: 0.0966 - val_accuracy: 0.9669\n",
            "Epoch 87/100\n",
            "4/4 [==============================] - 0s 9ms/step - loss: 0.0787 - accuracy: 0.9803 - val_loss: 0.0958 - val_accuracy: 0.9669\n",
            "Epoch 88/100\n",
            "4/4 [==============================] - 0s 8ms/step - loss: 0.0777 - accuracy: 0.9803 - val_loss: 0.0952 - val_accuracy: 0.9669\n",
            "Epoch 89/100\n",
            "4/4 [==============================] - 0s 9ms/step - loss: 0.0766 - accuracy: 0.9803 - val_loss: 0.0946 - val_accuracy: 0.9669\n",
            "Epoch 90/100\n",
            "4/4 [==============================] - 0s 8ms/step - loss: 0.0757 - accuracy: 0.9803 - val_loss: 0.0941 - val_accuracy: 0.9669\n",
            "Epoch 91/100\n",
            "4/4 [==============================] - 0s 8ms/step - loss: 0.0746 - accuracy: 0.9803 - val_loss: 0.0936 - val_accuracy: 0.9669\n",
            "Epoch 92/100\n",
            "4/4 [==============================] - 0s 8ms/step - loss: 0.0737 - accuracy: 0.9836 - val_loss: 0.0931 - val_accuracy: 0.9669\n",
            "Epoch 93/100\n",
            "4/4 [==============================] - 0s 9ms/step - loss: 0.0728 - accuracy: 0.9836 - val_loss: 0.0926 - val_accuracy: 0.9669\n",
            "Epoch 94/100\n",
            "4/4 [==============================] - 0s 8ms/step - loss: 0.0718 - accuracy: 0.9836 - val_loss: 0.0919 - val_accuracy: 0.9669\n",
            "Epoch 95/100\n",
            "4/4 [==============================] - 0s 8ms/step - loss: 0.0706 - accuracy: 0.9836 - val_loss: 0.0914 - val_accuracy: 0.9669\n",
            "Epoch 96/100\n",
            "4/4 [==============================] - 0s 9ms/step - loss: 0.0696 - accuracy: 0.9836 - val_loss: 0.0909 - val_accuracy: 0.9669\n",
            "Epoch 97/100\n",
            "4/4 [==============================] - 0s 9ms/step - loss: 0.0687 - accuracy: 0.9836 - val_loss: 0.0905 - val_accuracy: 0.9669\n",
            "Epoch 98/100\n",
            "4/4 [==============================] - 0s 8ms/step - loss: 0.0678 - accuracy: 0.9836 - val_loss: 0.0902 - val_accuracy: 0.9669\n",
            "Epoch 99/100\n",
            "4/4 [==============================] - 0s 11ms/step - loss: 0.0671 - accuracy: 0.9836 - val_loss: 0.0898 - val_accuracy: 0.9669\n",
            "Epoch 100/100\n",
            "4/4 [==============================] - 0s 8ms/step - loss: 0.0661 - accuracy: 0.9836 - val_loss: 0.0897 - val_accuracy: 0.9669\n"
          ]
        }
      ]
    },
    {
      "cell_type": "code",
      "metadata": {
        "id": "iY4qmcAmtdNV"
      },
      "source": [
        "#now testing for test data\n",
        "predictions_ann = ann.predict(X_test)\n",
        "predictions_ann = (predictions_ann>0.5)\n",
        "predictions_ann"
      ],
      "execution_count": null,
      "outputs": []
    },
    {
      "cell_type": "markdown",
      "metadata": {
        "id": "pfQRmhQrhFMb"
      },
      "source": [
        "# **Predicting a single observation**"
      ]
    },
    {
      "cell_type": "code",
      "metadata": {
        "colab": {
          "base_uri": "https://localhost:8080/"
        },
        "id": "FvUUrARtvfnh",
        "outputId": "47a0fcb2-f961-4588-f7a1-7655a5060bd2"
      },
      "source": [
        "#new prediction based on given input\n",
        "new_input = [[17.99, 10.38, 122.8, 1001, 0.1184, 0.2776, 0.3001, 0.1471, 0.2419, 0.07871, 1.095, 0.9053, 8.589, 153.4, 0.006399, 0.04904, 0.05373, 0.01587, 0.03003, 0.006193, 25.38, 17.33, 184.6, 2019, 0.1622, 0.6656, 0.7119, 0.2654, 0.4601,0.1189]] #[['duration','credit_amount','installment_commitment','residence_since','age','existing_credits','num_dependents']]\n",
        "new_output = ann.predict(new_input)\n",
        "print(new_input, new_output)\n",
        "if new_output == True:\n",
        "  print(\"Malignant Diagnosis\")\n",
        "else:\n",
        "  print(\"Benign Diagnosis\")"
      ],
      "execution_count": null,
      "outputs": [
        {
          "output_type": "stream",
          "name": "stdout",
          "text": [
            "[[17.99, 10.38, 122.8, 1001, 0.1184, 0.2776, 0.3001, 0.1471, 0.2419, 0.07871, 1.095, 0.9053, 8.589, 153.4, 0.006399, 0.04904, 0.05373, 0.01587, 0.03003, 0.006193, 25.38, 17.33, 184.6, 2019, 0.1622, 0.6656, 0.7119, 0.2654, 0.4601, 0.1189]] [[1.]]\n",
            "Malignant Diagnosis\n"
          ]
        }
      ]
    },
    {
      "cell_type": "code",
      "metadata": {
        "colab": {
          "base_uri": "https://localhost:8080/"
        },
        "id": "P2lhgpoPaCj1",
        "outputId": "89d12741-5590-487f-a284-f04a66e5bd26"
      },
      "source": [
        "from sklearn.metrics import confusion_matrix\n",
        "from sklearn.metrics import accuracy_score\n",
        "cm = confusion_matrix(y_test,predictions_ann)\n",
        "score = accuracy_score(y_test,predictions_ann)\n",
        "print(cm)\n",
        "print('score is:',score)"
      ],
      "execution_count": null,
      "outputs": [
        {
          "output_type": "stream",
          "name": "stdout",
          "text": [
            "[[74  1]\n",
            " [ 1 38]]\n",
            "score is: 0.9824561403508771\n"
          ]
        }
      ]
    },
    {
      "cell_type": "code",
      "metadata": {
        "colab": {
          "base_uri": "https://localhost:8080/",
          "height": 320
        },
        "id": "zfmuSxeJahhC",
        "outputId": "c9c7f7d3-0843-4eeb-90cf-ac7a4c97f7a2"
      },
      "source": [
        "#creating heatmap of confussion matrix\n",
        "plt.figure(figsize=[7,5])\n",
        "sns.heatmap(cm,annot=True)\n",
        "plt.show()"
      ],
      "execution_count": null,
      "outputs": [
        {
          "output_type": "display_data",
          "data": {
            "image/png": "[encoded data removed]",
            "text/plain": [
              "<Figure size 504x360 with 2 Axes>"
            ]
          },
          "metadata": {
            "needs_background": "light"
          }
        }
      ]
    },
    {
      "cell_type": "markdown",
      "metadata": {
        "id": "RQapzhH8hUev"
      },
      "source": [
        "# **Graph plotting of accuracy and loss**"
      ]
    },
    {
      "cell_type": "code",
      "metadata": {
        "colab": {
          "base_uri": "https://localhost:8080/",
          "height": 295
        },
        "id": "hql6zL94m4H7",
        "outputId": "5b692a42-a817-4dd3-8b18-3bf91c1cbd90"
      },
      "source": [
        "#summarize history for accuracy\n",
        "plt.plot(model.history['accuracy'])\n",
        "plt.plot(model.history['val_accuracy'])\n",
        "plt.title('model accuracy')\n",
        "plt.ylabel('accuracy')\n",
        "plt.xlabel('epoch')\n",
        "plt.legend(['train', 'test'], loc='upper left')\n",
        "plt.show()"
      ],
      "execution_count": null,
      "outputs": [
        {
          "output_type": "display_data",
          "data": {
            "image/png": "[encoded data removed]",
            "text/plain": [
              "<Figure size 432x288 with 1 Axes>"
            ]
          },
          "metadata": {
            "needs_background": "light"
          }
        }
      ]
    },
    {
      "cell_type": "code",
      "metadata": {
        "colab": {
          "base_uri": "https://localhost:8080/",
          "height": 295
        },
        "id": "OnToGpVFm7lA",
        "outputId": "2590f1db-2e34-4fa5-9952-4b9a92633b44"
      },
      "source": [
        "#summarize history for loss\n",
        "plt.plot(model.history['loss'])\n",
        "plt.plot(model.history['val_loss'])\n",
        "plt.title('model loss')\n",
        "plt.ylabel('loss')\n",
        "plt.xlabel('epoch')\n",
        "plt.legend(['train', 'test'], loc='upper left')\n",
        "plt.show()"
      ],
      "execution_count": null,
      "outputs": [
        {
          "output_type": "display_data",
          "data": {
            "image/png": "[encoded data removed]",
            "text/plain": [
              "<Figure size 432x288 with 1 Axes>"
            ]
          },
          "metadata": {
            "needs_background": "light"
          }
        }
      ]
    }
  ]
}